{
 "cells": [
  {
   "cell_type": "markdown",
   "id": "65aae06d",
   "metadata": {},
   "source": [
    "# Creation and anonymization of the dataset\n",
    "\n",
    "This notebook contains the steps for the extraction and..."
   ]
  },
  {
   "cell_type": "code",
   "execution_count": 1,
   "id": "2d9152e9",
   "metadata": {},
   "outputs": [
    {
     "data": {
      "text/plain": [
       "True"
      ]
     },
     "execution_count": 1,
     "metadata": {},
     "output_type": "execute_result"
    }
   ],
   "source": [
    "import os\n",
    "\n",
    "import pandas as pd \n",
    "\n",
    "from dotenv import load_dotenv\n",
    "\n",
    "load_dotenv()"
   ]
  },
  {
   "cell_type": "markdown",
   "id": "97d3e524",
   "metadata": {},
   "source": [
    "# 📊 Features for Clustering Debtor Profiles\n",
    "\n",
    "## 💰 Financial Features\n",
    "\n",
    "- `total_debt_value`: Total value of all debts.\n",
    "- `avg_parcel_value`: Average value of parcelas (installments).\n",
    "- `max_debt_value`: Maximum single debt value.\n",
    "- `debt_to_income_proxy`: Estimated debt/income ratio.\n",
    "- `total_fines_only`: Sum of multas (fines).\n",
    "- `total_ressarcimento_only`: Sum of ressarcimentos (reimbursements).\n",
    "- `has_daily_fine`: Indicator for multas diárias.\n",
    "- `total_paid_amount`: Total amount already paid.\n",
    "- `total_open_balance`: Remaining unpaid balance.\n",
    "- `has_discounts`: Whether the debt was paid via folha (payroll discount).\n",
    "\n",
    "## 🕐 Temporal Features\n",
    "\n",
    "- `avg_days_to_payment`: Mean days from debt creation to payment.\n",
    "- `avg_days_to_protesto_or_pge`: Delay until enforcement action.\n",
    "- `has_delays`: Boolean for overdue parcelas.\n",
    "- `n_late_parcels`: Count of overdue payments.\n",
    "- `n_parcelamentos`: Number of signed installment agreements.\n",
    "- `n_broken_parcelamentos`: Count of broken agreements.\n",
    "- `recency_of_last_payment`: Days since last payment.\n",
    "- `age_of_debt`: Time since debt creation.\n",
    "\n",
    "## 📄 Legal Process Features\n",
    "\n",
    "- `n_processos`: Number of TCE processes linked to the debtor.\n",
    "- `n_transitado_em_julgado`: Finalized (unappealable) decisions.\n",
    "- `total_process_value`: Total value across processes.\n",
    "- `mean_process_delay`: Average delay between process start and debt.\n",
    "- `has_processos_with_ressarcimento`: Indicator flag.\n",
    "- `has_multas_cominatorias`: Presence of coercive fines.\n",
    "- `n_protestos`: Number of cartório protest actions.\n",
    "- `n_pge_notificacoes`: Number of PGE handovers.\n",
    "\n",
    "## 🧍 Debtor Profile Features\n",
    "\n",
    "- `is_public_servant`: Employment in public service.\n",
    "- `is_ente_juridico`: Whether the entity is a legal organization.\n",
    "- `sector_of_responsibility`: Câmara, órgão, etc.\n",
    "- `role_type`: Type of responsible actor (ordenador, gestor).\n",
    "- `n_different_creditors`: Number of different orgãos creditors.\n",
    "- `has_accessed_portal`: Access to TCE Portal do Responsável.\n",
    "\n",
    "## ⚠️ Risk and Enforcement Outcome Features\n",
    "\n",
    "- `was_protested`: Sent to cartório protesto.\n",
    "- `was_sent_to_pge`: Sent to Procuradoria Geral do Estado.\n",
    "- `is_in_cadastro_inadimplente`: Inadimplente registry status.\n",
    "- `n_pge_payments`: Payments via PGE.\n",
    "- `n_protesto_cancelamentos`: Number of protest cancellations.\n",
    "\n",
    "## 📌 Optional Target Labels (for future supervised models)\n",
    "\n",
    "- `has_defaulted`: True if unpaid after N days.\n",
    "- `is_chronic_debtor`: Recurrent non-compliance over time.\n"
   ]
  },
  {
   "cell_type": "code",
   "execution_count": null,
   "id": "2efdb20a",
   "metadata": {},
   "outputs": [],
   "source": []
  }
 ],
 "metadata": {
  "kernelspec": {
   "display_name": ".venv",
   "language": "python",
   "name": "python3"
  },
  "language_info": {
   "codemirror_mode": {
    "name": "ipython",
    "version": 3
   },
   "file_extension": ".py",
   "mimetype": "text/x-python",
   "name": "python",
   "nbconvert_exporter": "python",
   "pygments_lexer": "ipython3",
   "version": "3.12.7"
  }
 },
 "nbformat": 4,
 "nbformat_minor": 5
}
