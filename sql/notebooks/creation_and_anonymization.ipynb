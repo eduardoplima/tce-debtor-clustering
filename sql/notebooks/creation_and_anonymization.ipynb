{
 "cells": [
  {
   "cell_type": "markdown",
   "id": "65aae06d",
   "metadata": {},
   "source": [
    "# Creation and anonymization of the dataset\n",
    "\n",
    "This notebook contains the steps for the extraction and..."
   ]
  },
  {
   "cell_type": "code",
   "execution_count": 19,
   "id": "2d9152e9",
   "metadata": {},
   "outputs": [
    {
     "data": {
      "text/plain": [
       "True"
      ]
     },
     "execution_count": 19,
     "metadata": {},
     "output_type": "execute_result"
    }
   ],
   "source": [
    "import os\n",
    "import pymssql\n",
    "\n",
    "import pandas as pd \n",
    "\n",
    "from dotenv import load_dotenv\n",
    "\n",
    "load_dotenv()"
   ]
  },
  {
   "cell_type": "code",
   "execution_count": 20,
   "id": "705a3b83",
   "metadata": {},
   "outputs": [],
   "source": [
    "conn = pymssql.connect(\n",
    "    server=os.getenv(\"SQL_SERVER_HOST\"),\n",
    "    port=os.getenv(\"SQL_SERVER_PORT\"),\n",
    "    user=os.getenv(\"SQL_SERVER_USER\"),\n",
    "    password=os.getenv(\"SQL_SERVER_PASS\"),\n",
    "    database=os.getenv(\"SQL_SERVER_DB\")\n",
    ")"
   ]
  },
  {
   "cell_type": "code",
   "execution_count": 21,
   "id": "867c747a",
   "metadata": {},
   "outputs": [
    {
     "name": "stderr",
     "output_type": "stream",
     "text": [
      "/tmp/ipykernel_77101/2436473498.py:3: UserWarning: pandas only supports SQLAlchemy connectable (engine/connection) or database string URI or sqlite3 DBAPI2 connection. Other DBAPI2 objects are not tested. Please consider using SQLAlchemy.\n",
      "  df = pd.read_sql(sql, conn)\n"
     ]
    }
   ],
   "source": [
    "with open(\"../sql/debtorquery.sql\", \"r\") as file:\n",
    "    sql = file.read()\n",
    "df = pd.read_sql(sql, conn)"
   ]
  },
  {
   "cell_type": "code",
   "execution_count": 23,
   "id": "fadbd13b",
   "metadata": {},
   "outputs": [
    {
     "data": {
      "text/plain": [
       "(66443, 33)"
      ]
     },
     "execution_count": 23,
     "metadata": {},
     "output_type": "execute_result"
    }
   ],
   "source": [
    "df.shape"
   ]
  },
  {
   "cell_type": "code",
   "execution_count": 22,
   "id": "d2f09c36",
   "metadata": {},
   "outputs": [
    {
     "name": "stdout",
     "output_type": "stream",
     "text": [
      "Exe_Debito_IdDebito\n",
      "Exe_Debito_IdProcessoExecucao\n",
      "Exe_Debito_valorOriginalDebito\n",
      "Exe_Debito_ValorPago\n",
      "Exe_Debito_CodigoTipoDebito\n",
      "Exe_Debito_datainclusao\n",
      "Exe_DebitoPessoa_IDDebitoPessoa\n",
      "Exe_DebitoPessoa_IDPessoa\n",
      "Exe_DebitoPessoa_DataInclusao\n",
      "Exe_DebitoBoleto_IdDebitoBoleto\n",
      "Exe_DebitoBoleto_ValorOriginal\n",
      "Exe_DebitoBoleto_ValorPago\n",
      "Exe_DebitoBoleto_DataPagamento\n",
      "Exe_Debito_MultaDiaria_IdDebitoMultaDiaria\n",
      "Exe_Debito_MultaDiaria_ValorMultaDiaria\n",
      "Exe_Debito_MultaDiaria_DataInicio\n",
      "Exe_Debito_MultaDiaria_DataFinal\n",
      "Exe_CreditoPagamento_IdCreditoPagamento\n",
      "Exe_CreditoPagamento_ValorCredito\n",
      "Exe_CreditoPagamento_DataInclusao\n",
      "Exe_Parcelamento_IdParcelamento\n",
      "Exe_Parcelamento_NumeroParcelas\n",
      "Exe_Parcelamento_SituacaoParcelamento\n",
      "Exe_Parcelamento_DataCancelamento\n",
      "Protesto_TitulosRemessa_IdTituloRemessa\n",
      "Protesto_TitulosRemessa_NumeroProtocoloTitulo\n",
      "Protesto_TitulosRemessa_DataProtocoloTitulo\n",
      "PGE_Processo_IdProcessoPGE\n",
      "PGE_Processo_NumeroProcessoExecucao\n",
      "PGE_Processo_AnoProcessoExecucao\n",
      "PGE_Processo_ValorAtualizadoPGE\n",
      "PGE_Processo_ValorPagoPGE\n",
      "PGE_Processo_HomologadoPGE\n"
     ]
    }
   ],
   "source": [
    "for c in df.columns:\n",
    "    print(c)"
   ]
  },
  {
   "cell_type": "markdown",
   "id": "97d3e524",
   "metadata": {},
   "source": [
    "# 📊 Features for Clustering Debtor Profiles\n",
    "\n",
    "## 💰 Financial Features\n",
    "\n",
    "- `total_debt_value`: Total value of all debts.\n",
    "- `avg_parcel_value`: Average value of parcelas (installments).\n",
    "- `max_debt_value`: Maximum single debt value.\n",
    "- `total_fines_only`: Sum of multas (fines).\n",
    "- `total_ressarcimento_only`: Sum of ressarcimentos (reimbursements).\n",
    "- `has_daily_fine`: Indicator for multas diárias.\n",
    "- `total_paid_amount`: Total amount already paid.\n",
    "- `percent_paid_amount`: `total_paid_amount`/`total_debt_value`.\n",
    "\n",
    "## 🕐 Temporal Features\n",
    "\n",
    "- `n_late_parcels`: Count of overdue payments.\n",
    "- `n_parcelamentos`: Number of signed installment agreements.\n",
    "- `n_broken_parcelamentos`: Count of broken agreements.\n",
    "\n",
    "## 📄 Legal Process Features\n",
    "\n",
    "- `n_processos`: Number of TCE processes linked to the debtor.\n",
    "- `n_transitado_em_julgado`: Finalized (unappealable) decisions.\n",
    "- `total_process_value`: Total value across processes.\n",
    "- `mean_process_delay`: Average delay between process start and debt.\n",
    "- `has_multas_cominatorias`: Presence of coercive fines.\n",
    "- `n_protestos`: Number of cartório protest actions.\n",
    "- `n_pge_notificacoes`: Number of PGE handovers.\n",
    "\n",
    "## 🧍 Debtor Profile Features\n",
    "\n",
    "- `is_public_servant`: Employment in public service.\n",
    "- `is_ente_juridico`: Whether the entity is a legal organization."
   ]
  },
  {
   "cell_type": "code",
   "execution_count": null,
   "id": "2efdb20a",
   "metadata": {},
   "outputs": [],
   "source": []
  }
 ],
 "metadata": {
  "kernelspec": {
   "display_name": ".venv",
   "language": "python",
   "name": "python3"
  },
  "language_info": {
   "codemirror_mode": {
    "name": "ipython",
    "version": 3
   },
   "file_extension": ".py",
   "mimetype": "text/x-python",
   "name": "python",
   "nbconvert_exporter": "python",
   "pygments_lexer": "ipython3",
   "version": "3.12.7"
  }
 },
 "nbformat": 4,
 "nbformat_minor": 5
}
